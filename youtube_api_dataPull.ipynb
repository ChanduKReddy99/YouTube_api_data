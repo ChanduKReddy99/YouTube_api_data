{
 "cells": [
  {
   "cell_type": "code",
   "execution_count": 1,
   "id": "63913c77",
   "metadata": {},
   "outputs": [],
   "source": [
    "import requests\n",
    "import pandas as pd\n",
    "import time"
   ]
  },
  {
   "cell_type": "code",
   "execution_count": 2,
   "id": "b75154f3",
   "metadata": {},
   "outputs": [],
   "source": [
    "api_key = \"XXXXXXXXXXXXXXXXXXXXXX\"\n",
    "channel_id = \"XXXXXXXXXXXXXX\""
   ]
  },
  {
   "cell_type": "code",
   "execution_count": 3,
   "id": "1ada4af4",
   "metadata": {},
   "outputs": [],
   "source": [
    "pageToken= \"\"\n",
    "url=  \"https://www.googleapis.com/youtube/v3/search?key=\"+api_key+\"&channelId=\"+channel_id+ \\\n",
    "                             \"&part=snippet,id&order=date&maxResults=1000\"+pageToken\n",
    "response= requests.get(url).json()"
   ]
  },
  {
   "cell_type": "code",
   "execution_count": 4,
   "id": "7a6164a7",
   "metadata": {},
   "outputs": [],
   "source": [
    "def video_stats(video_id):\n",
    "    url_stats= \"https://www.googleapis.com/youtube/v3/videos?id=\"+video_id+\"&part=statistics&key=\"+api_key\n",
    "    response_stats= requests.get(url_stats).json()\n",
    "    view_cnt=  response_stats[\"items\"][0][\"statistics\"][\"viewCount\"]\n",
    "    like_cnt= response_stats[\"items\"][0][\"statistics\"][\"likeCount\"]\n",
    "    comment_cnt= response_stats[\"items\"][0][\"statistics\"][\"commentCount\"]\n",
    "    return view_cnt, like_cnt, comment_cnt\n"
   ]
  },
  {
   "cell_type": "code",
   "execution_count": 5,
   "id": "8af989e3",
   "metadata": {},
   "outputs": [],
   "source": [
    "def get_videos_details(df):\n",
    "    pageToken= \"\"\n",
    "    url=  \"https://www.googleapis.com/youtube/v3/search?key=\"+api_key+\"&channelId=\"+channel_id+ \\\n",
    "                             \"&part=snippet,id&orer=date&maxResults=1000\"+pageToken\n",
    "    response= requests.get(url).json()\n",
    "    time.sleep(1)\n",
    "    for video in response[\"items\"]:\n",
    "        if video[\"id\"][\"kind\"]== \"youtube#video\":\n",
    "            video_id=  video[\"id\"][\"videoId\"]\n",
    "            video_title= video[\"snippet\"][\"title\"]\n",
    "            upload_time= video[\"snippet\"][\"publishTime\"]\n",
    "            upload_time= str(upload_time).split(\"T\")[0]\n",
    "            view_cnt, like_cnt, comment_cnt= video_stats(video_id)\n",
    "            df= pd.concat([df, pd.DataFrame([{\"video_id\":video_id,\"video_title\":video_title, \"upload_date\":upload_time, \n",
    "                         \"view_count\":view_cnt, \"like_count\":like_cnt, \"comment_count\":comment_cnt}])], ignore_index=True)\n",
    "       \n",
    "    return df"
   ]
  },
  {
   "cell_type": "code",
   "execution_count": 6,
   "id": "a0953288",
   "metadata": {},
   "outputs": [],
   "source": [
    "df2= pd.DataFrame(columns=[\"video_id\",\"video_title\",\"upload_date\",\"view_count\",\"like_count\",\"comment_count\"])"
   ]
  },
  {
   "cell_type": "code",
   "execution_count": 7,
   "id": "fff8a8b3",
   "metadata": {},
   "outputs": [],
   "source": [
    "df2= get_videos_details(df2)"
   ]
  },
  {
   "cell_type": "code",
   "execution_count": 8,
   "id": "203d579a",
   "metadata": {},
   "outputs": [
    {
     "data": {
      "text/html": [
       "<div>\n",
       "<style scoped>\n",
       "    .dataframe tbody tr th:only-of-type {\n",
       "        vertical-align: middle;\n",
       "    }\n",
       "\n",
       "    .dataframe tbody tr th {\n",
       "        vertical-align: top;\n",
       "    }\n",
       "\n",
       "    .dataframe thead th {\n",
       "        text-align: right;\n",
       "    }\n",
       "</style>\n",
       "<table border=\"1\" class=\"dataframe\">\n",
       "  <thead>\n",
       "    <tr style=\"text-align: right;\">\n",
       "      <th></th>\n",
       "      <th>video_id</th>\n",
       "      <th>video_title</th>\n",
       "      <th>upload_date</th>\n",
       "      <th>view_count</th>\n",
       "      <th>like_count</th>\n",
       "      <th>comment_count</th>\n",
       "    </tr>\n",
       "  </thead>\n",
       "  <tbody>\n",
       "    <tr>\n",
       "      <th>0</th>\n",
       "      <td>sugvnHA7ElY</td>\n",
       "      <td>Python Tutorial: if __name__ == &amp;#39;__main__&amp;...</td>\n",
       "      <td>2015-03-23</td>\n",
       "      <td>1738100</td>\n",
       "      <td>48095</td>\n",
       "      <td>1506</td>\n",
       "    </tr>\n",
       "    <tr>\n",
       "      <th>1</th>\n",
       "      <td>jCzT9XFZ5bw</td>\n",
       "      <td>Python OOP Tutorial 6: Property Decorators - G...</td>\n",
       "      <td>2016-08-19</td>\n",
       "      <td>759723</td>\n",
       "      <td>25479</td>\n",
       "      <td>821</td>\n",
       "    </tr>\n",
       "    <tr>\n",
       "      <th>2</th>\n",
       "      <td>ZDa-Z5JzLYM</td>\n",
       "      <td>Python OOP Tutorial 1: Classes and Instances</td>\n",
       "      <td>2016-06-20</td>\n",
       "      <td>3366603</td>\n",
       "      <td>89849</td>\n",
       "      <td>3433</td>\n",
       "    </tr>\n",
       "    <tr>\n",
       "      <th>3</th>\n",
       "      <td>bD05uGo_sVI</td>\n",
       "      <td>Python Tutorial: Generators - How to use them ...</td>\n",
       "      <td>2015-08-17</td>\n",
       "      <td>716268</td>\n",
       "      <td>16918</td>\n",
       "      <td>612</td>\n",
       "    </tr>\n",
       "    <tr>\n",
       "      <th>4</th>\n",
       "      <td>GfxJYp9_nJA</td>\n",
       "      <td>Python Tutorial: Namedtuple - When and why sho...</td>\n",
       "      <td>2015-07-07</td>\n",
       "      <td>86337</td>\n",
       "      <td>2430</td>\n",
       "      <td>94</td>\n",
       "    </tr>\n",
       "  </tbody>\n",
       "</table>\n",
       "</div>"
      ],
      "text/plain": [
       "      video_id                                        video_title upload_date  \\\n",
       "0  sugvnHA7ElY  Python Tutorial: if __name__ == &#39;__main__&...  2015-03-23   \n",
       "1  jCzT9XFZ5bw  Python OOP Tutorial 6: Property Decorators - G...  2016-08-19   \n",
       "2  ZDa-Z5JzLYM       Python OOP Tutorial 1: Classes and Instances  2016-06-20   \n",
       "3  bD05uGo_sVI  Python Tutorial: Generators - How to use them ...  2015-08-17   \n",
       "4  GfxJYp9_nJA  Python Tutorial: Namedtuple - When and why sho...  2015-07-07   \n",
       "\n",
       "  view_count like_count comment_count  \n",
       "0    1738100      48095          1506  \n",
       "1     759723      25479           821  \n",
       "2    3366603      89849          3433  \n",
       "3     716268      16918           612  \n",
       "4      86337       2430            94  "
      ]
     },
     "execution_count": 8,
     "metadata": {},
     "output_type": "execute_result"
    }
   ],
   "source": [
    "df2.head()"
   ]
  },
  {
   "cell_type": "code",
   "execution_count": null,
   "id": "d44355af",
   "metadata": {},
   "outputs": [],
   "source": [
    "# save the dataframe as csv file\n",
    "df2.to_csv(\"youtube_videos_details.csv\")"
   ]
  }
 ],
 "metadata": {
  "kernelspec": {
   "display_name": "Python 3 (ipykernel)",
   "language": "python",
   "name": "python3"
  },
  "language_info": {
   "codemirror_mode": {
    "name": "ipython",
    "version": 3
   },
   "file_extension": ".py",
   "mimetype": "text/x-python",
   "name": "python",
   "nbconvert_exporter": "python",
   "pygments_lexer": "ipython3",
   "version": "3.7.13"
  }
 },
 "nbformat": 4,
 "nbformat_minor": 5
}
